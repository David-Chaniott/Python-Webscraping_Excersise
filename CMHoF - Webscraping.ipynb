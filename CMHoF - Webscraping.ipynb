{
 "cells": [
  {
   "cell_type": "code",
   "execution_count": 1,
   "id": "6ba9a1d7",
   "metadata": {},
   "outputs": [],
   "source": [
    "# Held from Kyle Manning, Ronit Rapoport, Sara Stinson"
   ]
  },
  {
   "cell_type": "code",
   "execution_count": 2,
   "id": "a96e7649",
   "metadata": {},
   "outputs": [],
   "source": [
    "import pandas as pd\n",
    "import requests\n",
    "import numpy as np\n",
    "from datetime import datetime\n",
    "from bs4 import BeautifulSoup as bs\n",
    "import matplotlib.pyplot as plt\n",
    "import seaborn as sns"
   ]
  },
  {
   "cell_type": "code",
   "execution_count": 3,
   "id": "870ccf93",
   "metadata": {
    "scrolled": true
   },
   "outputs": [],
   "source": [
    "url = 'https://countrymusichalloffame.org/hall-of-fame/members/page/'\n",
    "\n",
    "# Inspect the page to find the tags\n",
    "# tags: <h3> for artist's names; div class=\"vertical...\" for induction year\n",
    "\n",
    "names = []\n",
    "years = []\n",
    "\n",
    "for pages in range (1,17) :\n",
    "    response = requests.get(url + str(pages))\n",
    "    soup = bs(response.text)\n",
    "    names.extend(soup.findAll('h3'))\n",
    "    years.extend(soup.findAll('div', attrs={'class': \"vertical-card_content--copy\"}))\n",
    "    \n",
    "# Notes: I was having problems with this all day because I was not using the varaiable the loop\n",
    "# creates. I.E. names for name or years for year.\n",
    "# git gud at for X in Y. The X and Y were what I was using wrong.\n",
    "\n",
    "artist = []\n",
    "\n",
    "for name in names :\n",
    "    artist.append(name.text)\n",
    "    \n",
    "# The [9:] is from reading the raw \"Inducted YYYY\"\n",
    "\n",
    "inducted = []\n",
    "\n",
    "for year in years :\n",
    "    inducted.append(year.get_text(strip=True)[9:])"
   ]
  },
  {
   "cell_type": "code",
   "execution_count": 4,
   "id": "0d28772b",
   "metadata": {},
   "outputs": [
    {
     "data": {
      "text/html": [
       "<div>\n",
       "<style scoped>\n",
       "    .dataframe tbody tr th:only-of-type {\n",
       "        vertical-align: middle;\n",
       "    }\n",
       "\n",
       "    .dataframe tbody tr th {\n",
       "        vertical-align: top;\n",
       "    }\n",
       "\n",
       "    .dataframe thead th {\n",
       "        text-align: right;\n",
       "    }\n",
       "</style>\n",
       "<table border=\"1\" class=\"dataframe\">\n",
       "  <thead>\n",
       "    <tr style=\"text-align: right;\">\n",
       "      <th></th>\n",
       "      <th>Artist</th>\n",
       "      <th>Inducted</th>\n",
       "    </tr>\n",
       "  </thead>\n",
       "  <tbody>\n",
       "    <tr>\n",
       "      <th>0</th>\n",
       "      <td>Roy Acuff</td>\n",
       "      <td>1962</td>\n",
       "    </tr>\n",
       "    <tr>\n",
       "      <th>1</th>\n",
       "      <td>Alabama</td>\n",
       "      <td>2005</td>\n",
       "    </tr>\n",
       "    <tr>\n",
       "      <th>2</th>\n",
       "      <td>Bill Anderson</td>\n",
       "      <td>2001</td>\n",
       "    </tr>\n",
       "    <tr>\n",
       "      <th>3</th>\n",
       "      <td>Eddy Arnold</td>\n",
       "      <td>1966</td>\n",
       "    </tr>\n",
       "    <tr>\n",
       "      <th>4</th>\n",
       "      <td>Chet Atkins</td>\n",
       "      <td>1973</td>\n",
       "    </tr>\n",
       "    <tr>\n",
       "      <th>...</th>\n",
       "      <td>...</td>\n",
       "      <td>...</td>\n",
       "    </tr>\n",
       "    <tr>\n",
       "      <th>138</th>\n",
       "      <td>Hank Williams Jr.</td>\n",
       "      <td>2021</td>\n",
       "    </tr>\n",
       "    <tr>\n",
       "      <th>139</th>\n",
       "      <td>Bob Wills</td>\n",
       "      <td>1968</td>\n",
       "    </tr>\n",
       "    <tr>\n",
       "      <th>140</th>\n",
       "      <td>Mac Wiseman</td>\n",
       "      <td>2014</td>\n",
       "    </tr>\n",
       "    <tr>\n",
       "      <th>141</th>\n",
       "      <td>Tammy Wynette</td>\n",
       "      <td>1998</td>\n",
       "    </tr>\n",
       "    <tr>\n",
       "      <th>142</th>\n",
       "      <td>Faron Young</td>\n",
       "      <td>2000</td>\n",
       "    </tr>\n",
       "  </tbody>\n",
       "</table>\n",
       "<p>143 rows × 2 columns</p>\n",
       "</div>"
      ],
      "text/plain": [
       "                Artist Inducted\n",
       "0            Roy Acuff     1962\n",
       "1              Alabama     2005\n",
       "2        Bill Anderson     2001\n",
       "3          Eddy Arnold     1966\n",
       "4          Chet Atkins     1973\n",
       "..                 ...      ...\n",
       "138  Hank Williams Jr.     2021\n",
       "139          Bob Wills     1968\n",
       "140        Mac Wiseman     2014\n",
       "141      Tammy Wynette     1998\n",
       "142        Faron Young     2000\n",
       "\n",
       "[143 rows x 2 columns]"
      ]
     },
     "execution_count": 4,
     "metadata": {},
     "output_type": "execute_result"
    }
   ],
   "source": [
    "hall_of_fame = pd.DataFrame({'Artist':artist, 'Inducted':inducted})\n",
    "hall_of_fame"
   ]
  },
  {
   "cell_type": "code",
   "execution_count": 12,
   "id": "81f567bd",
   "metadata": {},
   "outputs": [],
   "source": [
    "hall_of_fame['Inducted'] = hall_of_fame['Inducted'].astype(int)"
   ]
  },
  {
   "cell_type": "code",
   "execution_count": 13,
   "id": "42c723bb",
   "metadata": {},
   "outputs": [
    {
     "data": {
      "text/plain": [
       "Artist      object\n",
       "Inducted     int32\n",
       "dtype: object"
      ]
     },
     "execution_count": 13,
     "metadata": {},
     "output_type": "execute_result"
    }
   ],
   "source": [
    "hall_of_fame.dtypes"
   ]
  },
  {
   "cell_type": "code",
   "execution_count": 22,
   "id": "076ce3f9",
   "metadata": {},
   "outputs": [
    {
     "data": {
      "text/plain": [
       "<AxesSubplot:>"
      ]
     },
     "execution_count": 22,
     "metadata": {},
     "output_type": "execute_result"
    },
    {
     "data": {
      "image/png": "[encoded data removed]",
      "text/plain": [
       "<Figure size 1800x720 with 1 Axes>"
      ]
     },
     "metadata": {
      "needs_background": "light"
     },
     "output_type": "display_data"
    }
   ],
   "source": [
    "plt.figure(figsize = (25,10))\n",
    "#hall_of_fame['Inducted'] = np.datetime64\n",
    "\n",
    "hall_of_fame['Inducted'].value_counts().plot(kind = 'bar')"
   ]
  },
  {
   "cell_type": "code",
   "execution_count": null,
   "id": "9feeb9ad",
   "metadata": {},
   "outputs": [],
   "source": []
  }
 ],
 "metadata": {
  "kernelspec": {
   "display_name": "Python 3 (ipykernel)",
   "language": "python",
   "name": "python3"
  },
  "language_info": {
   "codemirror_mode": {
    "name": "ipython",
    "version": 3
   },
   "file_extension": ".py",
   "mimetype": "text/x-python",
   "name": "python",
   "nbconvert_exporter": "python",
   "pygments_lexer": "ipython3",
   "version": "3.9.7"
  }
 },
 "nbformat": 4,
 "nbformat_minor": 5
}
